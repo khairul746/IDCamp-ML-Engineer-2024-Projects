{
  "cells": [
    {
      "cell_type": "markdown",
      "metadata": {},
      "source": [
        "# Analisis Sentimen pada Aplikasi My Telkomsel"
      ]
    },
    {
      "cell_type": "code",
      "execution_count": 1,
      "metadata": {
        "colab": {
          "base_uri": "https://localhost:8080/"
        },
        "id": "B2MMnx6bQ0QY",
        "outputId": "b8d12f8b-7bf9-45e0-d0c9-f5f387f07ff9"
      },
      "outputs": [
        {
          "name": "stdout",
          "output_type": "stream",
          "text": [
            "Requirement already satisfied: sastrawi in c:\\users\\khair\\appdata\\local\\programs\\python\\python312\\lib\\site-packages (1.0.1)\n"
          ]
        },
        {
          "name": "stderr",
          "output_type": "stream",
          "text": [
            "[nltk_data] Downloading package punkt to\n",
            "[nltk_data]     C:\\Users\\khair\\AppData\\Roaming\\nltk_data...\n",
            "[nltk_data]   Package punkt is already up-to-date!\n",
            "[nltk_data] Downloading package stopwords to\n",
            "[nltk_data]     C:\\Users\\khair\\AppData\\Roaming\\nltk_data...\n",
            "[nltk_data]   Package stopwords is already up-to-date!\n",
            "[nltk_data] Downloading package punkt_tab to\n",
            "[nltk_data]     C:\\Users\\khair\\AppData\\Roaming\\nltk_data...\n",
            "[nltk_data]   Package punkt_tab is already up-to-date!\n"
          ]
        }
      ],
      "source": [
        "# Mengimpor pustaka google_play_scraper untuk mengakses ulasan dan informasi aplikasi dari Google Play Store.\n",
        "from google_play_scraper import app, reviews, Sort\n",
        "\n",
        "import pandas as pd  # Pandas untuk manipulasi dan analisis data\n",
        "pd.options.mode.chained_assignment = None  # Menonaktifkan peringatan chaining\n",
        "import numpy as np  # NumPy untuk komputasi numerik\n",
        "seed = 0\n",
        "np.random.seed(seed)  # Mengatur seed untuk reproduktibilitas\n",
        "import matplotlib.pyplot as plt  # Matplotlib untuk visualisasi data\n",
        "import seaborn as sns  # Seaborn untuk visualisasi data statistik, mengatur gaya visualisasi\n",
        "from sklearn.metrics import accuracy_score\n",
        "\n",
        "import re  # Modul untuk bekerja dengan ekspresi reguler\n",
        "import string  # Berisi konstanta string, seperti tanda baca\n",
        "import unicodedata # Modul untuk bekerja dengan Unicode\n",
        "from nltk.tokenize import word_tokenize  # Tokenisasi teks\n",
        "from nltk.corpus import stopwords  # Daftar kata-kata berhenti dalam teks\n",
        "\n",
        "from Sastrawi.Stemmer import StemmerFactory\n",
        "from Sastrawi.Stemmer.StemmerFactory import StemmerFactory  # Stemming (penghilangan imbuhan kata) dalam bahasa Indonesia\n",
        "from Sastrawi.StopWordRemover.StopWordRemoverFactory import StopWordRemoverFactory  # Menghapus kata-kata berhenti dalam bahasa Indonesia\n",
        "\n",
        "from wordcloud import WordCloud  # Membuat visualisasi berbentuk awan kata (word cloud) dari teks\n",
        "\n",
        "import nltk  # Import pustaka NLTK (Natural Language Toolkit).\n",
        "nltk.download('punkt')  # Mengunduh dataset yang diperlukan untuk tokenisasi teks.\n",
        "nltk.download('stopwords')  # Mengunduh dataset yang berisi daftar kata-kata berhenti (stopwords) dalam berbagai bahasa.\n",
        "nltk.download('punkt_tab') # Download the punkt_tab data package\n",
        "pd.options.mode.copy_on_write = True"
      ]
    },
    {
      "cell_type": "markdown",
      "metadata": {
        "id": "5qpW2CfFNQmd"
      },
      "source": [
        "## 1. Scraping"
      ]
    },
    {
      "cell_type": "code",
      "execution_count": 8,
      "metadata": {
        "colab": {
          "base_uri": "https://localhost:8080/",
          "height": 591
        },
        "id": "P6Z_pGAXQ7v0",
        "outputId": "282e640f-f7fc-4193-b522-7d5e1181b230"
      },
      "outputs": [
        {
          "data": {
            "text/html": [
              "<div>\n",
              "<style scoped>\n",
              "    .dataframe tbody tr th:only-of-type {\n",
              "        vertical-align: middle;\n",
              "    }\n",
              "\n",
              "    .dataframe tbody tr th {\n",
              "        vertical-align: top;\n",
              "    }\n",
              "\n",
              "    .dataframe thead th {\n",
              "        text-align: right;\n",
              "    }\n",
              "</style>\n",
              "<table border=\"1\" class=\"dataframe\">\n",
              "  <thead>\n",
              "    <tr style=\"text-align: right;\">\n",
              "      <th></th>\n",
              "      <th>reviewId</th>\n",
              "      <th>userName</th>\n",
              "      <th>userImage</th>\n",
              "      <th>content</th>\n",
              "      <th>score</th>\n",
              "      <th>thumbsUpCount</th>\n",
              "      <th>reviewCreatedVersion</th>\n",
              "      <th>at</th>\n",
              "      <th>replyContent</th>\n",
              "      <th>repliedAt</th>\n",
              "      <th>appVersion</th>\n",
              "    </tr>\n",
              "  </thead>\n",
              "  <tbody>\n",
              "    <tr>\n",
              "      <th>0</th>\n",
              "      <td>a1ff149f-1517-4487-ba71-c027039f8bb5</td>\n",
              "      <td>Pengguna Google</td>\n",
              "      <td>https://play-lh.googleusercontent.com/EGemoI2N...</td>\n",
              "      <td>Versi lama lebih bagus dan lebih saya rindukan...</td>\n",
              "      <td>1</td>\n",
              "      <td>862</td>\n",
              "      <td>8.6.2</td>\n",
              "      <td>2025-01-13 13:51:37</td>\n",
              "      <td>None</td>\n",
              "      <td>NaT</td>\n",
              "      <td>8.6.2</td>\n",
              "    </tr>\n",
              "    <tr>\n",
              "      <th>1</th>\n",
              "      <td>c9c912e1-abc7-44cf-aeb4-e4eb7d0f3ed7</td>\n",
              "      <td>Pengguna Google</td>\n",
              "      <td>https://play-lh.googleusercontent.com/EGemoI2N...</td>\n",
              "      <td>Makin hari makin lemot aja. Aplikasi. . Bukan ...</td>\n",
              "      <td>1</td>\n",
              "      <td>178</td>\n",
              "      <td>8.6.2</td>\n",
              "      <td>2025-01-17 08:17:10</td>\n",
              "      <td>None</td>\n",
              "      <td>NaT</td>\n",
              "      <td>8.6.2</td>\n",
              "    </tr>\n",
              "    <tr>\n",
              "      <th>2</th>\n",
              "      <td>aea3d280-dd1f-48b1-a27d-7dd6b3360ef7</td>\n",
              "      <td>Pengguna Google</td>\n",
              "      <td>https://play-lh.googleusercontent.com/EGemoI2N...</td>\n",
              "      <td>Mantap banget, bulan lalu gak bisa dibuka apli...</td>\n",
              "      <td>4</td>\n",
              "      <td>137</td>\n",
              "      <td>8.6.2</td>\n",
              "      <td>2025-01-14 20:04:59</td>\n",
              "      <td>None</td>\n",
              "      <td>NaT</td>\n",
              "      <td>8.6.2</td>\n",
              "    </tr>\n",
              "  </tbody>\n",
              "</table>\n",
              "</div>"
            ],
            "text/plain": [
              "                               reviewId         userName  \\\n",
              "0  a1ff149f-1517-4487-ba71-c027039f8bb5  Pengguna Google   \n",
              "1  c9c912e1-abc7-44cf-aeb4-e4eb7d0f3ed7  Pengguna Google   \n",
              "2  aea3d280-dd1f-48b1-a27d-7dd6b3360ef7  Pengguna Google   \n",
              "\n",
              "                                           userImage  \\\n",
              "0  https://play-lh.googleusercontent.com/EGemoI2N...   \n",
              "1  https://play-lh.googleusercontent.com/EGemoI2N...   \n",
              "2  https://play-lh.googleusercontent.com/EGemoI2N...   \n",
              "\n",
              "                                             content  score  thumbsUpCount  \\\n",
              "0  Versi lama lebih bagus dan lebih saya rindukan...      1            862   \n",
              "1  Makin hari makin lemot aja. Aplikasi. . Bukan ...      1            178   \n",
              "2  Mantap banget, bulan lalu gak bisa dibuka apli...      4            137   \n",
              "\n",
              "  reviewCreatedVersion                  at replyContent repliedAt appVersion  \n",
              "0                8.6.2 2025-01-13 13:51:37         None       NaT      8.6.2  \n",
              "1                8.6.2 2025-01-17 08:17:10         None       NaT      8.6.2  \n",
              "2                8.6.2 2025-01-14 20:04:59         None       NaT      8.6.2  "
            ]
          },
          "execution_count": 8,
          "metadata": {},
          "output_type": "execute_result"
        }
      ],
      "source": [
        "# Mengakses ulasan dan informasi aplikasi dari Google Play Store.\n",
        "scrapreview, continuation_token = reviews(\n",
        "    'com.telkomsel.telkomselcm',    # ID aplikasi\n",
        "    lang='id',                 # Bahasa ulasan (default: 'en')\n",
        "    country='id',              # Negara (default: 'us')\n",
        "    sort=Sort.MOST_RELEVANT,   # Urutan ulasan (default: Sort.MOST_RELEVANT)\n",
        "    count=3000,               # Jumlah maksimum ulasan yang ingin diambil\n",
        ")\n",
        "\n",
        "app_reviews_df = pd.DataFrame(scrapreview)\n",
        "app_reviews_df.head(3)"
      ]
    },
    {
      "cell_type": "code",
      "execution_count": 3,
      "metadata": {
        "id": "QonMZC10Pf6O"
      },
      "outputs": [],
      "source": [
        "# Menyimpan data hasil scraping  ke dalam format .csv\n",
        "app_reviews_df.to_csv('app_reviews.csv', index=False)"
      ]
    },
    {
      "cell_type": "markdown",
      "metadata": {
        "id": "EikX2JI5Niga"
      },
      "source": [
        "## 2. Dataset Overview"
      ]
    },
    {
      "cell_type": "code",
      "execution_count": 4,
      "metadata": {
        "colab": {
          "base_uri": "https://localhost:8080/"
        },
        "id": "AEiGur1JNm0j",
        "outputId": "322103cf-1b0d-4559-f64d-ac8b779ee355"
      },
      "outputs": [
        {
          "name": "stdout",
          "output_type": "stream",
          "text": [
            "<class 'pandas.core.frame.DataFrame'>\n",
            "RangeIndex: 3000 entries, 0 to 2999\n",
            "Data columns (total 11 columns):\n",
            " #   Column                Non-Null Count  Dtype         \n",
            "---  ------                --------------  -----         \n",
            " 0   reviewId              3000 non-null   object        \n",
            " 1   userName              3000 non-null   object        \n",
            " 2   userImage             3000 non-null   object        \n",
            " 3   content               3000 non-null   object        \n",
            " 4   score                 3000 non-null   int64         \n",
            " 5   thumbsUpCount         3000 non-null   int64         \n",
            " 6   reviewCreatedVersion  3000 non-null   object        \n",
            " 7   at                    3000 non-null   datetime64[ns]\n",
            " 8   replyContent          1019 non-null   object        \n",
            " 9   repliedAt             1019 non-null   datetime64[ns]\n",
            " 10  appVersion            3000 non-null   object        \n",
            "dtypes: datetime64[ns](2), int64(2), object(7)\n",
            "memory usage: 257.9+ KB\n"
          ]
        }
      ],
      "source": [
        "app_reviews_df.info()"
      ]
    },
    {
      "cell_type": "code",
      "execution_count": 5,
      "metadata": {
        "id": "4wgVP-ErODzc"
      },
      "outputs": [],
      "source": [
        "df = app_reviews_df[['content','score']]"
      ]
    },
    {
      "cell_type": "code",
      "execution_count": 6,
      "metadata": {
        "colab": {
          "base_uri": "https://localhost:8080/",
          "height": 147
        },
        "id": "RhT8mH3fN0DZ",
        "outputId": "c228e39b-2e73-4ce4-fb90-74d365b800b3"
      },
      "outputs": [
        {
          "data": {
            "text/plain": [
              "content    0\n",
              "score      0\n",
              "dtype: int64"
            ]
          },
          "execution_count": 6,
          "metadata": {},
          "output_type": "execute_result"
        }
      ],
      "source": [
        "# Mengecek data yang kosong atau hilang\n",
        "df.isnull().sum()"
      ]
    },
    {
      "cell_type": "code",
      "execution_count": 7,
      "metadata": {
        "id": "X-FxGUwhURGK"
      },
      "outputs": [],
      "source": [
        "# Menghapus baris yang memiliki duplikat\n",
        "df.drop_duplicates(inplace=True)"
      ]
    },
    {
      "cell_type": "markdown",
      "metadata": {
        "id": "501j_p1eNYvB"
      },
      "source": [
        "## 3. Text Preprocessing"
      ]
    },
    {
      "cell_type": "code",
      "execution_count": 9,
      "metadata": {
        "id": "oy1aKNAqNakn"
      },
      "outputs": [],
      "source": [
        "def cleaningText(text):\n",
        "    text = re.sub(r'@[A-Za-z0-9]+', '', text) # menghapus mention\n",
        "    text = re.sub(r'#[A-Za-z0-9]+', '', text) # menghapus hashtag\n",
        "    text = re.sub(r'RT[\\s]', '', text) # menghapus RT\n",
        "    text = re.sub(r\"http\\S+\", '', text) # menghapus link\n",
        "    text = re.sub(r'[0-9]+', '', text) # menghapus angka\n",
        "    text = re.sub(r'[^\\w\\s]', '', text) # menghapus karakter selain huruf dan angka\n",
        "\n",
        "    text = text.replace('\\n', ' ') # mengganti baris baru dengan spasi\n",
        "    text = text.translate(str.maketrans('', '', string.punctuation)) # menghapus semua tanda baca\n",
        "    text = text.strip(' ') # menghapus karakter spasi dari kiri dan kanan teks\n",
        "    return text\n",
        "\n",
        "def remove_superscripts_and_subscripts(text):\n",
        "    # memfilter karakter yang bukan superscript atau subscript\n",
        "    def is_not_super_or_sub(char):\n",
        "        # Cek kategori Unicode karakter\n",
        "        return not (unicodedata.name(char, \"\").startswith(\"SUPERSCRIPT\") or\n",
        "                    unicodedata.name(char, \"\").startswith(\"SUBSCRIPT\"))\n",
        "\n",
        "    # Filter karakter dari teks\n",
        "    text = ''.join(filter(is_not_super_or_sub, text))\n",
        "    return text\n",
        "\n",
        "def casefoldingText(text): \n",
        "    # Mengubah semua karakter dalam teks menjadi huruf kecil\n",
        "    text = text.lower()\n",
        "    return text\n",
        "\n",
        "def tokenizingText(text): \n",
        "    # Memecah atau membagi string, teks menjadi daftar token\n",
        "    text = word_tokenize(text)\n",
        "    return text\n",
        "\n",
        "def filteringText(text): \n",
        "    # Menghapus stopwords dalam teks\n",
        "    listStopwords = set(stopwords.words('indonesian'))\n",
        "    listStopwords1 = set(stopwords.words('english'))\n",
        "    listStopwords.update(listStopwords1)\n",
        "    listStopwords.update(['iya','yaa','gak','nya','na','sih','ku',\"di\",\"ga\",\"ya\",\"gaa\",\"loh\",\"kah\",\"woi\",\"woii\",\"woy\"])\n",
        "    filtered = []\n",
        "    for txt in text:\n",
        "        if txt not in listStopwords:\n",
        "            filtered.append(txt)\n",
        "    text = filtered\n",
        "    return text\n",
        "\n",
        "def stemmingText(text): \n",
        "    # Mengurangi kata ke bentuk dasarnya yang menghilangkan imbuhan awalan dan akhiran atau ke akar kata\n",
        "    \n",
        "    # Membuat objek stemmer\n",
        "    factory = StemmerFactory()\n",
        "    stemmer = factory.create_stemmer()\n",
        "\n",
        "    # Memecah teks menjadi daftar kata\n",
        "    words = text.split()\n",
        "\n",
        "    # Menerapkan stemming pada setiap kata dalam daftar\n",
        "    stemmed_words = [stemmer.stem(word) for word in words]\n",
        "\n",
        "    # Menggabungkan kata-kata yang telah distem\n",
        "    stemmed_text = ' '.join(stemmed_words)\n",
        "\n",
        "    return stemmed_text\n",
        "\n",
        "def toSentence(list_words): # Mengubah daftar kata menjadi kalimat\n",
        "    sentence = ' '.join(word for word in list_words)\n",
        "    return sentence"
      ]
    },
    {
      "cell_type": "code",
      "execution_count": 10,
      "metadata": {
        "colab": {
          "base_uri": "https://localhost:8080/"
        },
        "id": "BVyywXMzPrrN",
        "outputId": "3ce82071-3dd7-4c59-c5e7-60fca197f5b5"
      },
      "outputs": [],
      "source": [
        "# Membuat kamus slangwords dari file eksternal\n",
        "slangwords = {}\n",
        "with open('combined_slang_words.txt', 'r', encoding='utf-8') as file:\n",
        "  docs = file.read()\n",
        "  for item in docs.split(','):\n",
        "    parts = item.split(':')\n",
        "    if len(parts) >= 2:  # Only proceed if there's a key and a value\n",
        "        slangwords[parts[0]] = parts[1]"
      ]
    },
    {
      "cell_type": "markdown",
      "metadata": {
        "id": "Ca5dGahcRhw1"
      },
      "source": [
        "https://github.com/louisowen6/NLP_bahasa_resources/blob/master/combined_slang_words.txt"
      ]
    },
    {
      "cell_type": "code",
      "execution_count": 11,
      "metadata": {
        "colab": {
          "base_uri": "https://localhost:8080/"
        },
        "id": "x0mFakJyPzMF",
        "outputId": "d188029d-6086-43f9-d003-886d4b073ed3"
      },
      "outputs": [
        {
          "data": {
            "text/plain": [
              "[('{\"@\"', ' \"di\"'),\n",
              " (' \"abis\"', ' \"habis\"'),\n",
              " (' \"ad\"', ' \"ada\"'),\n",
              " (' \"adlh\"', ' \"adalah\"'),\n",
              " (' \"afaik\"', ' \"as far as i know\"')]"
            ]
          },
          "execution_count": 11,
          "metadata": {},
          "output_type": "execute_result"
        }
      ],
      "source": [
        "list(slangwords.items())[:5]"
      ]
    },
    {
      "cell_type": "code",
      "execution_count": 12,
      "metadata": {
        "id": "sdO_myB7TcyO"
      },
      "outputs": [],
      "source": [
        "# Membersihkan kamus slangwords\n",
        "def clean_slang_dict(slangwords):\n",
        "    cleaned_slangwords = {}\n",
        "    for key, value in slangwords.items():\n",
        "        cleaned_key = key.strip(' \"\\'')  # Remove leading/trailing spaces, quotes\n",
        "        cleaned_value = value.strip(' \"\\'')  # Remove leading/trailing spaces, quotes\n",
        "        cleaned_slangwords[cleaned_key] = cleaned_value\n",
        "    return cleaned_slangwords\n",
        "\n",
        "slangwords = clean_slang_dict(slangwords)"
      ]
    },
    {
      "cell_type": "code",
      "execution_count": 13,
      "metadata": {
        "id": "LKE4VfgVWWmU"
      },
      "outputs": [],
      "source": [
        "def fix_slangwords(text):\n",
        "    # Memperbaiki kata-kata slang dalam teks\n",
        "    words = text.split()\n",
        "    fixed_words = []\n",
        "\n",
        "    for word in words:\n",
        "        if word.lower() in slangwords:\n",
        "            fixed_words.append(slangwords[word.lower()])\n",
        "        else:\n",
        "            fixed_words.append(word)\n",
        "\n",
        "    fixed_text = ' '.join(fixed_words)\n",
        "    return fixed_text"
      ]
    },
    {
      "cell_type": "code",
      "execution_count": 16,
      "metadata": {
        "id": "U9lmfG_3WRyy"
      },
      "outputs": [],
      "source": [
        "# Membersihkan teks dan menyimpannya di kolom 'text_clean'\n",
        "df['text_clean'] = df['content'].apply(cleaningText).apply(remove_superscripts_and_subscripts)\n",
        "\n",
        "# Mengubah huruf dalam teks menjadi huruf kecil dan menyimpannya di 'text_casefoldingText'\n",
        "df['text_casefoldingText'] = df['text_clean'].apply(casefoldingText)\n",
        "\n",
        "# Mengganti kata-kata slang dengan kata-kata standar dan menyimpannya di 'text_slangwords'\n",
        "df['text_slangwords'] = df['text_casefoldingText'].apply(fix_slangwords)\n",
        "\n",
        "# Memecah teks menjadi token (kata-kata) dan menyimpannya di 'text_tokenizingText'\n",
        "df['text_tokenizingText'] = df['text_slangwords'].apply(tokenizingText)\n",
        "\n",
        "# Menghapus kata-kata stop (kata-kata umum) dan menyimpannya di 'text_stopword'\n",
        "df['text_stopword'] = df['text_tokenizingText'].apply(filteringText)\n",
        "\n",
        "# Menggabungkan token-token menjadi kalimat dan menyimpannya di 'text_akhir'\n",
        "df['text_akhir'] = df['text_stopword'].apply(toSentence)"
      ]
    },
    {
      "cell_type": "code",
      "execution_count": 18,
      "metadata": {
        "colab": {
          "base_uri": "https://localhost:8080/",
          "height": 389
        },
        "id": "NnuFfl_xWse1",
        "outputId": "d4cfe30b-6eb4-43c3-afaf-4c6d277b5c86"
      },
      "outputs": [
        {
          "data": {
            "text/html": [
              "<div>\n",
              "<style scoped>\n",
              "    .dataframe tbody tr th:only-of-type {\n",
              "        vertical-align: middle;\n",
              "    }\n",
              "\n",
              "    .dataframe tbody tr th {\n",
              "        vertical-align: top;\n",
              "    }\n",
              "\n",
              "    .dataframe thead th {\n",
              "        text-align: right;\n",
              "    }\n",
              "</style>\n",
              "<table border=\"1\" class=\"dataframe\">\n",
              "  <thead>\n",
              "    <tr style=\"text-align: right;\">\n",
              "      <th></th>\n",
              "      <th>content</th>\n",
              "      <th>score</th>\n",
              "      <th>text_clean</th>\n",
              "      <th>text_casefoldingText</th>\n",
              "      <th>text_slangwords</th>\n",
              "      <th>text_tokenizingText</th>\n",
              "      <th>text_stopword</th>\n",
              "      <th>text_akhir</th>\n",
              "    </tr>\n",
              "  </thead>\n",
              "  <tbody>\n",
              "    <tr>\n",
              "      <th>0</th>\n",
              "      <td>Versi lama lebih bagus dan lebih saya rindukan...</td>\n",
              "      <td>1</td>\n",
              "      <td>Versi lama lebih bagus dan lebih saya rindukan...</td>\n",
              "      <td>versi lama lebih bagus dan lebih saya rindukan...</td>\n",
              "      <td>versi lama lebih bagus dan lebih saya rindukan...</td>\n",
              "      <td>[versi, lama, lebih, bagus, dan, lebih, saya, ...</td>\n",
              "      <td>[versi, bagus, rindukan, crash, versi, kompati...</td>\n",
              "      <td>versi bagus rindukan crash versi kompatibel pe...</td>\n",
              "    </tr>\n",
              "    <tr>\n",
              "      <th>1</th>\n",
              "      <td>Makin hari makin lemot aja. Aplikasi. . Bukan ...</td>\n",
              "      <td>1</td>\n",
              "      <td>Makin hari makin lemot aja Aplikasi  Bukan Kar...</td>\n",
              "      <td>makin hari makin lemot aja aplikasi  bukan kar...</td>\n",
              "      <td>makin hari makin lambat saja aplikasi bukan ka...</td>\n",
              "      <td>[makin, hari, makin, lambat, saja, aplikasi, b...</td>\n",
              "      <td>[lambat, aplikasi, karana, sinyal, respon, apl...</td>\n",
              "      <td>lambat aplikasi karana sinyal respon aplikasi ...</td>\n",
              "    </tr>\n",
              "    <tr>\n",
              "      <th>2</th>\n",
              "      <td>Mantap banget, bulan lalu gak bisa dibuka apli...</td>\n",
              "      <td>4</td>\n",
              "      <td>Mantap banget bulan lalu gak bisa dibuka aplik...</td>\n",
              "      <td>mantap banget bulan lalu gak bisa dibuka aplik...</td>\n",
              "      <td>mantap banget bulan lalu gak bisa dibuka aplik...</td>\n",
              "      <td>[mantap, banget, bulan, lalu, gak, bisa, dibuk...</td>\n",
              "      <td>[mantap, banget, dibuka, aplikasinya, pas, mas...</td>\n",
              "      <td>mantap banget dibuka aplikasinya pas masuk apl...</td>\n",
              "    </tr>\n",
              "    <tr>\n",
              "      <th>3</th>\n",
              "      <td>Tolonglah telkomsel, versi² sebelumnya ga ada ...</td>\n",
              "      <td>1</td>\n",
              "      <td>Tolonglah telkomsel versi sebelumnya ga ada bu...</td>\n",
              "      <td>tolonglah telkomsel versi sebelumnya ga ada bu...</td>\n",
              "      <td>tolonglah telkomsel versi sebelumnya ga ada bu...</td>\n",
              "      <td>[tolonglah, telkomsel, versi, sebelumnya, ga, ...</td>\n",
              "      <td>[tolonglah, telkomsel, versi, bug, sekalinya, ...</td>\n",
              "      <td>tolonglah telkomsel versi bug sekalinya update...</td>\n",
              "    </tr>\n",
              "    <tr>\n",
              "      <th>4</th>\n",
              "      <td>Makin lama makin muak sama aplikasi ini update...</td>\n",
              "      <td>1</td>\n",
              "      <td>Makin lama makin muak sama aplikasi ini update...</td>\n",
              "      <td>makin lama makin muak sama aplikasi ini update...</td>\n",
              "      <td>makin lama makin muak sama aplikasi ini update...</td>\n",
              "      <td>[makin, lama, makin, muak, sama, aplikasi, ini...</td>\n",
              "      <td>[muak, aplikasi, update, teruskalian, aplikasi...</td>\n",
              "      <td>muak aplikasi update teruskalian aplikasi prov...</td>\n",
              "    </tr>\n",
              "  </tbody>\n",
              "</table>\n",
              "</div>"
            ],
            "text/plain": [
              "                                             content  score  \\\n",
              "0  Versi lama lebih bagus dan lebih saya rindukan...      1   \n",
              "1  Makin hari makin lemot aja. Aplikasi. . Bukan ...      1   \n",
              "2  Mantap banget, bulan lalu gak bisa dibuka apli...      4   \n",
              "3  Tolonglah telkomsel, versi² sebelumnya ga ada ...      1   \n",
              "4  Makin lama makin muak sama aplikasi ini update...      1   \n",
              "\n",
              "                                          text_clean  \\\n",
              "0  Versi lama lebih bagus dan lebih saya rindukan...   \n",
              "1  Makin hari makin lemot aja Aplikasi  Bukan Kar...   \n",
              "2  Mantap banget bulan lalu gak bisa dibuka aplik...   \n",
              "3  Tolonglah telkomsel versi sebelumnya ga ada bu...   \n",
              "4  Makin lama makin muak sama aplikasi ini update...   \n",
              "\n",
              "                                text_casefoldingText  \\\n",
              "0  versi lama lebih bagus dan lebih saya rindukan...   \n",
              "1  makin hari makin lemot aja aplikasi  bukan kar...   \n",
              "2  mantap banget bulan lalu gak bisa dibuka aplik...   \n",
              "3  tolonglah telkomsel versi sebelumnya ga ada bu...   \n",
              "4  makin lama makin muak sama aplikasi ini update...   \n",
              "\n",
              "                                     text_slangwords  \\\n",
              "0  versi lama lebih bagus dan lebih saya rindukan...   \n",
              "1  makin hari makin lambat saja aplikasi bukan ka...   \n",
              "2  mantap banget bulan lalu gak bisa dibuka aplik...   \n",
              "3  tolonglah telkomsel versi sebelumnya ga ada bu...   \n",
              "4  makin lama makin muak sama aplikasi ini update...   \n",
              "\n",
              "                                 text_tokenizingText  \\\n",
              "0  [versi, lama, lebih, bagus, dan, lebih, saya, ...   \n",
              "1  [makin, hari, makin, lambat, saja, aplikasi, b...   \n",
              "2  [mantap, banget, bulan, lalu, gak, bisa, dibuk...   \n",
              "3  [tolonglah, telkomsel, versi, sebelumnya, ga, ...   \n",
              "4  [makin, lama, makin, muak, sama, aplikasi, ini...   \n",
              "\n",
              "                                       text_stopword  \\\n",
              "0  [versi, bagus, rindukan, crash, versi, kompati...   \n",
              "1  [lambat, aplikasi, karana, sinyal, respon, apl...   \n",
              "2  [mantap, banget, dibuka, aplikasinya, pas, mas...   \n",
              "3  [tolonglah, telkomsel, versi, bug, sekalinya, ...   \n",
              "4  [muak, aplikasi, update, teruskalian, aplikasi...   \n",
              "\n",
              "                                          text_akhir  \n",
              "0  versi bagus rindukan crash versi kompatibel pe...  \n",
              "1  lambat aplikasi karana sinyal respon aplikasi ...  \n",
              "2  mantap banget dibuka aplikasinya pas masuk apl...  \n",
              "3  tolonglah telkomsel versi bug sekalinya update...  \n",
              "4  muak aplikasi update teruskalian aplikasi prov...  "
            ]
          },
          "execution_count": 18,
          "metadata": {},
          "output_type": "execute_result"
        }
      ],
      "source": [
        "df.head()"
      ]
    },
    {
      "cell_type": "markdown",
      "metadata": {
        "id": "raPDBNb7aI5v"
      },
      "source": [
        "## 4. Labeling Kata"
      ]
    },
    {
      "cell_type": "markdown",
      "metadata": {},
      "source": [
        "### 4.1 Mengimpor kamus kata-kata positif dan negatif"
      ]
    },
    {
      "cell_type": "code",
      "execution_count": 19,
      "metadata": {
        "id": "DG9Ley6XWukn"
      },
      "outputs": [],
      "source": [
        "import requests\n",
        "from io import StringIO\n",
        "import csv\n",
        "\n",
        "# Membaca data kamus kata-kata positif dari GitHub\n",
        "lexicon_positive = dict()\n",
        "\n",
        "response = requests.get('https://raw.githubusercontent.com/angelmetanosaa/dataset/main/lexicon_positive.csv')\n",
        "# Mengirim permintaan HTTP untuk mendapatkan file CSV dari GitHub\n",
        "\n",
        "if response.status_code == 200:\n",
        "    # Jika permintaan berhasil\n",
        "    reader = csv.reader(StringIO(response.text), delimiter=',')\n",
        "    # Membaca teks respons sebagai file CSV menggunakan pembaca CSV dengan pemisah koma\n",
        "\n",
        "    for row in reader:\n",
        "        # Mengulangi setiap baris dalam file CSV\n",
        "        lexicon_positive[row[0]] = int(row[1])\n",
        "        # Menambahkan kata-kata positif dan skornya ke dalam kamus lexicon_positive\n",
        "else:\n",
        "    print(\"Failed to fetch positive lexicon data\")\n",
        "\n",
        "# Membaca data kamus kata-kata negatif dari GitHub\n",
        "lexicon_negative = dict()\n",
        "\n",
        "response = requests.get('https://raw.githubusercontent.com/angelmetanosaa/dataset/main/lexicon_negative.csv')\n",
        "# Mengirim permintaan HTTP untuk mendapatkan file CSV dari GitHub\n",
        "\n",
        "if response.status_code == 200:\n",
        "    # Jika permintaan berhasil\n",
        "    reader = csv.reader(StringIO(response.text), delimiter=',')\n",
        "    # Membaca teks respons sebagai file CSV menggunakan pembaca CSV dengan pemisah koma\n",
        "\n",
        "    for row in reader:\n",
        "        # Mengulangi setiap baris dalam file CSV\n",
        "        lexicon_negative[row[0]] = int(row[1])\n",
        "        # Menambahkan kata-kata negatif dan skornya dalam kamus lexicon_negative\n",
        "else:\n",
        "    print(\"Failed to fetch negative lexicon data\")"
      ]
    },
    {
      "cell_type": "markdown",
      "metadata": {},
      "source": [
        "### 4.2 Mengkategorikan kata-kata pada dataframe"
      ]
    },
    {
      "cell_type": "code",
      "execution_count": 20,
      "metadata": {
        "id": "DG9Ley6XWukn"
      },
      "outputs": [],
      "source": [
        "def sentiment_analysis_lexicon_indonesia(text, score):\n",
        "    # Fungsi untuk menentukan polaritas sentimen dari tweet\n",
        "\n",
        "    # Inisialisasi skor sentimen dengan mengurangi 3 poin\n",
        "    # Sehingga skor sentimen awal bernilai negatif untuk rating rendah\n",
        "    score = (score-3)*2 # 2 sebagai faktor pengali\n",
        "    \n",
        "\n",
        "    for word in text:\n",
        "        # Mengulangi setiap kata dalam teks\n",
        "\n",
        "        if (word in lexicon_positive):\n",
        "            score = score + lexicon_positive[word]\n",
        "            # Jika kata ada dalam kamus positif, tambahkan skornya ke skor sentimen\n",
        "\n",
        "    for word in text:\n",
        "        # Mengulangi setiap kata dalam teks (sekali lagi)\n",
        "\n",
        "        if (word in lexicon_negative):\n",
        "            score = score + lexicon_negative[word]\n",
        "            # Jika kata ada dalam kamus negatif, kurangkan skornya dari skor sentimen\n",
        "\n",
        "    polarity=''\n",
        "    # Inisialisasi variabel polaritas\n",
        "\n",
        "    if (score >= 0):\n",
        "        polarity = 'positive'\n",
        "        # Jika skor sentimen lebih besar atau sama dengan 0, maka polaritas adalah positif\n",
        "    elif (score < 0):\n",
        "        polarity = 'negative'\n",
        "        # Jika skor sentimen kurang dari 0, maka polaritas adalah negatif\n",
        "\n",
        "    return score, polarity # Return the score and polarity"
      ]
    },
    {
      "cell_type": "code",
      "execution_count": 21,
      "metadata": {
        "colab": {
          "base_uri": "https://localhost:8080/"
        },
        "id": "TKXWPrpnakr_",
        "outputId": "fa2ad66e-1dc6-4d5d-bb89-770f545a2df3"
      },
      "outputs": [
        {
          "name": "stdout",
          "output_type": "stream",
          "text": [
            "polarity\n",
            "negative    2341\n",
            "positive     659\n",
            "Name: count, dtype: int64\n"
          ]
        }
      ],
      "source": [
        "df[['polarity_score', 'polarity']] = df.apply(\n",
        "    lambda row: sentiment_analysis_lexicon_indonesia(\n",
        "        row['text_stopword'], row['score']), \n",
        "        axis=1, result_type='expand'\n",
        ")\n",
        "print(df['polarity'].value_counts())"
      ]
    },
    {
      "cell_type": "code",
      "execution_count": 22,
      "metadata": {
        "id": "UNhXpja4aZLI"
      },
      "outputs": [
        {
          "data": {
            "text/html": [
              "<div>\n",
              "<style scoped>\n",
              "    .dataframe tbody tr th:only-of-type {\n",
              "        vertical-align: middle;\n",
              "    }\n",
              "\n",
              "    .dataframe tbody tr th {\n",
              "        vertical-align: top;\n",
              "    }\n",
              "\n",
              "    .dataframe thead th {\n",
              "        text-align: right;\n",
              "    }\n",
              "</style>\n",
              "<table border=\"1\" class=\"dataframe\">\n",
              "  <thead>\n",
              "    <tr style=\"text-align: right;\">\n",
              "      <th></th>\n",
              "      <th>content</th>\n",
              "      <th>score</th>\n",
              "      <th>text_clean</th>\n",
              "      <th>text_casefoldingText</th>\n",
              "      <th>text_slangwords</th>\n",
              "      <th>text_tokenizingText</th>\n",
              "      <th>text_stopword</th>\n",
              "      <th>text_akhir</th>\n",
              "      <th>polarity_score</th>\n",
              "      <th>polarity</th>\n",
              "    </tr>\n",
              "  </thead>\n",
              "  <tbody>\n",
              "    <tr>\n",
              "      <th>0</th>\n",
              "      <td>Versi lama lebih bagus dan lebih saya rindukan...</td>\n",
              "      <td>1</td>\n",
              "      <td>Versi lama lebih bagus dan lebih saya rindukan...</td>\n",
              "      <td>versi lama lebih bagus dan lebih saya rindukan...</td>\n",
              "      <td>versi lama lebih bagus dan lebih saya rindukan...</td>\n",
              "      <td>[versi, lama, lebih, bagus, dan, lebih, saya, ...</td>\n",
              "      <td>[versi, bagus, rindukan, crash, versi, kompati...</td>\n",
              "      <td>versi bagus rindukan crash versi kompatibel pe...</td>\n",
              "      <td>-12</td>\n",
              "      <td>negative</td>\n",
              "    </tr>\n",
              "    <tr>\n",
              "      <th>1</th>\n",
              "      <td>Makin hari makin lemot aja. Aplikasi. . Bukan ...</td>\n",
              "      <td>1</td>\n",
              "      <td>Makin hari makin lemot aja Aplikasi  Bukan Kar...</td>\n",
              "      <td>makin hari makin lemot aja aplikasi  bukan kar...</td>\n",
              "      <td>makin hari makin lambat saja aplikasi bukan ka...</td>\n",
              "      <td>[makin, hari, makin, lambat, saja, aplikasi, b...</td>\n",
              "      <td>[lambat, aplikasi, karana, sinyal, respon, apl...</td>\n",
              "      <td>lambat aplikasi karana sinyal respon aplikasi ...</td>\n",
              "      <td>-12</td>\n",
              "      <td>negative</td>\n",
              "    </tr>\n",
              "    <tr>\n",
              "      <th>2</th>\n",
              "      <td>Mantap banget, bulan lalu gak bisa dibuka apli...</td>\n",
              "      <td>4</td>\n",
              "      <td>Mantap banget bulan lalu gak bisa dibuka aplik...</td>\n",
              "      <td>mantap banget bulan lalu gak bisa dibuka aplik...</td>\n",
              "      <td>mantap banget bulan lalu gak bisa dibuka aplik...</td>\n",
              "      <td>[mantap, banget, bulan, lalu, gak, bisa, dibuk...</td>\n",
              "      <td>[mantap, banget, dibuka, aplikasinya, pas, mas...</td>\n",
              "      <td>mantap banget dibuka aplikasinya pas masuk apl...</td>\n",
              "      <td>-6</td>\n",
              "      <td>negative</td>\n",
              "    </tr>\n",
              "  </tbody>\n",
              "</table>\n",
              "</div>"
            ],
            "text/plain": [
              "                                             content  score  \\\n",
              "0  Versi lama lebih bagus dan lebih saya rindukan...      1   \n",
              "1  Makin hari makin lemot aja. Aplikasi. . Bukan ...      1   \n",
              "2  Mantap banget, bulan lalu gak bisa dibuka apli...      4   \n",
              "\n",
              "                                          text_clean  \\\n",
              "0  Versi lama lebih bagus dan lebih saya rindukan...   \n",
              "1  Makin hari makin lemot aja Aplikasi  Bukan Kar...   \n",
              "2  Mantap banget bulan lalu gak bisa dibuka aplik...   \n",
              "\n",
              "                                text_casefoldingText  \\\n",
              "0  versi lama lebih bagus dan lebih saya rindukan...   \n",
              "1  makin hari makin lemot aja aplikasi  bukan kar...   \n",
              "2  mantap banget bulan lalu gak bisa dibuka aplik...   \n",
              "\n",
              "                                     text_slangwords  \\\n",
              "0  versi lama lebih bagus dan lebih saya rindukan...   \n",
              "1  makin hari makin lambat saja aplikasi bukan ka...   \n",
              "2  mantap banget bulan lalu gak bisa dibuka aplik...   \n",
              "\n",
              "                                 text_tokenizingText  \\\n",
              "0  [versi, lama, lebih, bagus, dan, lebih, saya, ...   \n",
              "1  [makin, hari, makin, lambat, saja, aplikasi, b...   \n",
              "2  [mantap, banget, bulan, lalu, gak, bisa, dibuk...   \n",
              "\n",
              "                                       text_stopword  \\\n",
              "0  [versi, bagus, rindukan, crash, versi, kompati...   \n",
              "1  [lambat, aplikasi, karana, sinyal, respon, apl...   \n",
              "2  [mantap, banget, dibuka, aplikasinya, pas, mas...   \n",
              "\n",
              "                                          text_akhir  polarity_score  polarity  \n",
              "0  versi bagus rindukan crash versi kompatibel pe...             -12  negative  \n",
              "1  lambat aplikasi karana sinyal respon aplikasi ...             -12  negative  \n",
              "2  mantap banget dibuka aplikasinya pas masuk apl...              -6  negative  "
            ]
          },
          "execution_count": 22,
          "metadata": {},
          "output_type": "execute_result"
        }
      ],
      "source": [
        "df.head(3)"
      ]
    },
    {
      "cell_type": "markdown",
      "metadata": {
        "id": "SAZsjOqBcGn2"
      },
      "source": [
        "## 5. Ekstraksi Fitur"
      ]
    },
    {
      "cell_type": "code",
      "execution_count": 72,
      "metadata": {
        "id": "2xU78ULicYVc"
      },
      "outputs": [],
      "source": [
        "from sklearn.feature_extraction.text import TfidfVectorizer\n",
        "from sklearn.model_selection import train_test_split\n",
        "# Pisahkan data menjadi fitur (tweet) dan label (sentimen)\n",
        "X = df['text_akhir']\n",
        "y = df['polarity']\n",
        "\n",
        "# Ekstraksi fitur dengan TF-IDF\n",
        "tfidf = TfidfVectorizer(max_features=200, min_df=17, max_df=0.8 )\n",
        "X_tfidf = tfidf.fit_transform(X)\n",
        "\n",
        "# Konversi hasil ekstraksi fitur menjadi dataframe\n",
        "features_df = pd.DataFrame(X_tfidf.toarray(), columns=tfidf.get_feature_names_out())\n",
        "\n",
        "# Menampilkan hasil ekstraksi fitur\n",
        "features_df\n",
        "\n",
        "# Bagi data menjadi data latih dan data uji\n",
        "X_train, X_test, y_train, y_test = train_test_split(X_tfidf, y, test_size=0.2, random_state=42)"
      ]
    },
    {
      "cell_type": "markdown",
      "metadata": {
        "id": "2Oa5_P3Gc-HL"
      },
      "source": [
        "## 6. Pengembangan Model"
      ]
    },
    {
      "cell_type": "code",
      "execution_count": null,
      "metadata": {
        "colab": {
          "base_uri": "https://localhost:8080/"
        },
        "id": "V0K5stXIc2Dj",
        "outputId": "a3e27c0e-fff5-4e96-919a-039be77f3419"
      },
      "outputs": [],
      "source": [
        "from sklearn.naive_bayes import BernoulliNB\n",
        "\n",
        "# Membuat objek model Naive Bayes (Bernoulli Naive Bayes)\n",
        "naive_bayes = BernoulliNB()\n",
        "\n",
        "# Melatih model Naive Bayes pada data pelatihan\n",
        "naive_bayes.fit(X_train.toarray(), y_train)\n",
        "\n",
        "# Prediksi sentimen pada data pelatihan dan data uji\n",
        "y_pred_train_nb = naive_bayes.predict(X_train.toarray())\n",
        "y_pred_test_nb = naive_bayes.predict(X_test.toarray())\n",
        "\n",
        "# Evaluasi akurasi model Naive Bayes\n",
        "accuracy_train_nb = accuracy_score(y_pred_train_nb, y_train)\n",
        "accuracy_test_nb = accuracy_score(y_pred_test_nb, y_test)\n",
        "\n",
        "# Menampilkan akurasi\n",
        "print('Naive Bayes - accuracy_train:', accuracy_train_nb)\n",
        "print('Naive Bayes - accuracy_test:', accuracy_test_nb)"
      ]
    },
    {
      "cell_type": "code",
      "execution_count": null,
      "metadata": {
        "colab": {
          "base_uri": "https://localhost:8080/"
        },
        "id": "_G5MA0_ZdFz3",
        "outputId": "8dbfc22f-c866-40e5-8011-003bdcb849c3"
      },
      "outputs": [],
      "source": [
        "from sklearn.ensemble import RandomForestClassifier\n",
        "\n",
        "# Membuat objek model Random Forest\n",
        "random_forest = RandomForestClassifier(n_estimators=100, random_state=42)\n",
        "\n",
        "# Melatih model Random Forest pada data pelatihan\n",
        "random_forest.fit(X_train.toarray(), y_train)\n",
        "\n",
        "# Prediksi sentimen pada data pelatihan dan data uji\n",
        "y_pred_train_rf = random_forest.predict(X_train.toarray())\n",
        "y_pred_test_rf = random_forest.predict(X_test.toarray())\n",
        "\n",
        "# Evaluasi akurasi model Random Forest\n",
        "accuracy_train_rf = accuracy_score(y_pred_train_rf, y_train)\n",
        "accuracy_test_rf = accuracy_score(y_pred_test_rf, y_test)\n",
        "\n",
        "# Menampilkan akurasi\n",
        "print('Random Forest - accuracy_train:', accuracy_train_rf)\n",
        "print('Random Forest - accuracy_test:', accuracy_test_rf)"
      ]
    },
    {
      "cell_type": "code",
      "execution_count": null,
      "metadata": {
        "id": "5Y4IOoRUdKHC"
      },
      "outputs": [],
      "source": []
    }
  ],
  "metadata": {
    "colab": {
      "provenance": []
    },
    "kernelspec": {
      "display_name": "Python 3",
      "name": "python3"
    },
    "language_info": {
      "codemirror_mode": {
        "name": "ipython",
        "version": 3
      },
      "file_extension": ".py",
      "mimetype": "text/x-python",
      "name": "python",
      "nbconvert_exporter": "python",
      "pygments_lexer": "ipython3",
      "version": "3.12.2"
    }
  },
  "nbformat": 4,
  "nbformat_minor": 0
}
